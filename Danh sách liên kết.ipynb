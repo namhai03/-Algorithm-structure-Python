{
 "cells": [
  {
   "cell_type": "code",
   "execution_count": 55,
   "metadata": {},
   "outputs": [],
   "source": [
    "class Node:\n",
    "    def __init__(self, data):\n",
    "        self.data = data\n",
    "        self.next = None"
   ]
  },
  {
   "cell_type": "code",
   "execution_count": 156,
   "metadata": {},
   "outputs": [],
   "source": [
    "class Dslienket:\n",
    "    def __init__(self):\n",
    "        self.first = None\n",
    "        self.last = None\n",
    "    def in_ds(self):\n",
    "        address = self.first\n",
    "        while address != None:\n",
    "            print(str(address.data),end = \" \")\n",
    "            address = address.next\n",
    "    \n",
    "    def them(self,data):\n",
    "        node = Node(data)\n",
    "        if self.first == None:\n",
    "            self.first = node\n",
    "            self.last = node\n",
    "        else:\n",
    "            self.last.next = node\n",
    "            self.last = node\n",
    "    \n",
    "    def chen(self,chimuc,data):\n",
    "        newnode = Node(data)\n",
    "        address = self.first\n",
    "        prev = None\n",
    "        i = 0\n",
    "        while i<chimuc and address != None:\n",
    "            prev = address    #tạo node thay thế node hiện tại\n",
    "            i+=1\n",
    "            address = address.next     #gán node hiện tại bằng node sau\n",
    "        if prev == None:\n",
    "            # chèn vào đầu danh sách\n",
    "            newnode.next = self.first   # newnode trỏ vào self.first\n",
    "            self.first = newnode        # data và next của self.first thay bằng của newnode\n",
    "            if self.last == None:\n",
    "                self.last == None\n",
    "            else:\n",
    "                self.last == newnode\n",
    "        else:\n",
    "            if address == None:\n",
    "                # Chèn vào cuối danh sách\n",
    "                self.last.next = newnode\n",
    "                self.last = newnode\n",
    "            else:\n",
    "                # Chèn vào giữa danh sách\n",
    "                prev.next = newnode\n",
    "                newnode.next = address\n",
    "                \n",
    "    def xoa(self,data):\n",
    "        address = self.first\n",
    "        prev = None\n",
    "        while address != None and address.data != data:\n",
    "            prev = address\n",
    "            address = address.next\n",
    "        if address == self.first == self.last:\n",
    "            # Xóa phần tử duy nhất\n",
    "            self.first = self.last = None\n",
    "        elif address == self.first:\n",
    "            # Xóa phần tử đầu không phải duy nhất   \n",
    "            self.first = self.first.next\n",
    "        elif address == self.last:\n",
    "            # Xóa phần tử cuôi không phải duy nhất\n",
    "            self.last = None\n",
    "        else:\n",
    "            #Xóa phần tử giữa\n",
    "            prev.next = address.next\n",
    "    \n",
    "    def tim(self,data):\n",
    "        address = self.first\n",
    "        i = 0\n",
    "        while (address != None):\n",
    "            if address.data == data:\n",
    "                print(i,end=(\" \"))\n",
    "            i+=1\n",
    "            address = address.next\n",
    "    \n",
    "    def capnhat(self, chimuc, data):\n",
    "        address= self.first\n",
    "        i = 0\n",
    "        while i<chimuc and address != None:\n",
    "            address = address.next \n",
    "            i+=1\n",
    "        if address != None : \n",
    "            address.data = data\n",
    "    \n",
    "    def xoahet(self):\n",
    "        address = self.first\n",
    "        self.first = self.last = None\n",
    "        while address != None:\n",
    "            prev = address\n",
    "            address = address.next\n",
    "            del prev"
   ]
  },
  {
   "cell_type": "code",
   "execution_count": 157,
   "metadata": {},
   "outputs": [],
   "source": [
    "a =Dslienket()\n",
    "a.them(5)\n",
    "a.them(6)\n",
    "a.chen(0,3)\n",
    "a.chen(8,2)\n",
    "a.chen(2,2)\n",
    "a.chen(3,7)\n",
    "# a.tim(6)\n",
    "\n"
   ]
  },
  {
   "cell_type": "code",
   "execution_count": 160,
   "metadata": {},
   "outputs": [],
   "source": [
    "a.in_ds()"
   ]
  },
  {
   "cell_type": "code",
   "execution_count": 123,
   "metadata": {},
   "outputs": [],
   "source": [
    "a.xoa(7)"
   ]
  },
  {
   "cell_type": "code",
   "execution_count": 152,
   "metadata": {},
   "outputs": [],
   "source": [
    "a.capnhat(99,9)"
   ]
  },
  {
   "cell_type": "code",
   "execution_count": 159,
   "metadata": {},
   "outputs": [],
   "source": [
    "a.xoahet()"
   ]
  }
 ],
 "metadata": {
  "kernelspec": {
   "display_name": "Python 3",
   "language": "python",
   "name": "python3"
  },
  "language_info": {
   "codemirror_mode": {
    "name": "ipython",
    "version": 3
   },
   "file_extension": ".py",
   "mimetype": "text/x-python",
   "name": "python",
   "nbconvert_exporter": "python",
   "pygments_lexer": "ipython3",
   "version": "3.10.9 (tags/v3.10.9:1dd9be6, Dec  6 2022, 20:01:21) [MSC v.1934 64 bit (AMD64)]"
  },
  "orig_nbformat": 4,
  "vscode": {
   "interpreter": {
    "hash": "09cd1b73da6f4bc1fe2ef10f6a3804cfa7e23c7e5c15a712e2ac62bbcec3ca28"
   }
  }
 },
 "nbformat": 4,
 "nbformat_minor": 2
}
