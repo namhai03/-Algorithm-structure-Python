{
 "cells": [
  {
   "cell_type": "code",
   "execution_count": 2,
   "metadata": {},
   "outputs": [],
   "source": [
    "class Node:\n",
    "    def __init__(self,data):\n",
    "        self.data = data\n",
    "        self.next = None\n",
    "        self.prev = None"
   ]
  },
  {
   "cell_type": "code",
   "execution_count": 112,
   "metadata": {},
   "outputs": [],
   "source": [
    "class Dslienketdoi:\n",
    "    def __init__(self):\n",
    "        self.first = None\n",
    "        self.last = None\n",
    "        \n",
    "    def in_ds(self):\n",
    "        address = self.first\n",
    "        while address != None:\n",
    "            print(str(address.data),end = \" \")\n",
    "            address = address.next\n",
    "            \n",
    "    def them(self,data):\n",
    "        node = Node(data)\n",
    "        if self.first  == None:\n",
    "            self.first = node\n",
    "            self.last = node\n",
    "        else: \n",
    "            node.prev = self.last\n",
    "            self.last.next = node\n",
    "            self.last = node\n",
    "        \n",
    "    def chen(self,chimuc,data):\n",
    "        new_node = Node(data)\n",
    "        address = self .first  \n",
    "        i = 0\n",
    "        prev_node = None\n",
    "        while i<chimuc and address != None:\n",
    "            prev_node = address\n",
    "            address = address.next\n",
    "            i+=1\n",
    "        if prev_node == None:\n",
    "            # chen vao dau danh sach\n",
    "            new_node.next=self.first\n",
    "            self.first.prev = new_node\n",
    "            self.first = new_node\n",
    "        else:\n",
    "            if address == None:\n",
    "                self.last.next = new_node\n",
    "                new_node.prev = self.last\n",
    "                self.last = new_node\n",
    "            else:\n",
    "                prev_node.next = new_node\n",
    "                new_node.prev = prev_node\n",
    "                new_node.next = address\n",
    "                address.prev = new_node\n",
    "    \n",
    "    def xoa(self,data):      # Giống y hệt xóa của liên kết đơn\n",
    "        address = self.first\n",
    "        prev_node = None\n",
    "        while address != None and address.data != data:\n",
    "            prev_node = address\n",
    "            address = address.next\n",
    "        if address == self.first== self.last:\n",
    "            # Xóa phần tử duy nhất\n",
    "            self.first = self.last = None\n",
    "        elif address == self.first:\n",
    "            # Xóa phần tử đầu không phải duy nhất   \n",
    "            self.first = self.first.next\n",
    "        elif address == self.last:\n",
    "            # Xóa phần tử cuôi không phải duy nhất\n",
    "            self.last = None\n",
    "        else:\n",
    "            #Xóa phần tử giữa\n",
    "            prev_node.next = address.next \n",
    "\n",
    "    def tim(self,data):     #Giống y hệt liên kết đơn\n",
    "        address = self.first\n",
    "        i = 0\n",
    "        while (address != None):\n",
    "            if address.data == data:\n",
    "                print(i,end=(\" \"))\n",
    "            i+=1\n",
    "            address = address.next\n",
    "    \n",
    "    def capnhat(self, chimuc, data):   # Giống y hệt liên kết đơn\n",
    "        address= self.first\n",
    "        i = 0\n",
    "        while i<chimuc and address != None:\n",
    "            address = address.next \n",
    "            i+=1\n",
    "        if address != None : \n",
    "            address.data = data            \n",
    "    \n",
    "    def xoahet(self):\n",
    "        address = self.first\n",
    "        self.first = self.last = None\n",
    "        while address != None:\n",
    "            prev_node = address\n",
    "            address = address.next\n",
    "            del prev_node    \n",
    "        "
   ]
  },
  {
   "cell_type": "code",
   "execution_count": 113,
   "metadata": {},
   "outputs": [],
   "source": [
    "a = Dslienketdoi()\n",
    "a.them(5)\n",
    "a.them(6)\n",
    "a.chen(0,2)\n",
    "a.chen(0,4)\n",
    "a.chen(4,5)\n",
    "a.chen(1,10)\n",
    "a.chen(7,9)\n",
    "\n",
    "\n"
   ]
  },
  {
   "cell_type": "code",
   "execution_count": 115,
   "metadata": {},
   "outputs": [],
   "source": [
    "a.in_ds()"
   ]
  },
  {
   "cell_type": "code",
   "execution_count": 110,
   "metadata": {},
   "outputs": [],
   "source": [
    "a.capnhat(5,8)"
   ]
  },
  {
   "cell_type": "code",
   "execution_count": 114,
   "metadata": {},
   "outputs": [],
   "source": [
    "a.xoahet()"
   ]
  }
 ],
 "metadata": {
  "kernelspec": {
   "display_name": "Python 3",
   "language": "python",
   "name": "python3"
  },
  "language_info": {
   "codemirror_mode": {
    "name": "ipython",
    "version": 3
   },
   "file_extension": ".py",
   "mimetype": "text/x-python",
   "name": "python",
   "nbconvert_exporter": "python",
   "pygments_lexer": "ipython3",
   "version": "3.10.9 (tags/v3.10.9:1dd9be6, Dec  6 2022, 20:01:21) [MSC v.1934 64 bit (AMD64)]"
  },
  "orig_nbformat": 4,
  "vscode": {
   "interpreter": {
    "hash": "09cd1b73da6f4bc1fe2ef10f6a3804cfa7e23c7e5c15a712e2ac62bbcec3ca28"
   }
  }
 },
 "nbformat": 4,
 "nbformat_minor": 2
}
